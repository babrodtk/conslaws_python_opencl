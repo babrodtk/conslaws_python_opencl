{
 "metadata": {
  "name": "",
  "signature": "sha256:349335ae5006ccd1c829229b510459dc49745da49945fac63bb0a0b6e6405466"
 },
 "nbformat": 3,
 "nbformat_minor": 0,
 "worksheets": [
  {
   "cells": [
    {
     "cell_type": "markdown",
     "metadata": {},
     "source": [
      "#License\n",
      "    IPython notebook for running a trivial OpenCL program\n",
      "    Copyright (C) 2015 Andre.Brodtkorb@ifi.uio.no\n",
      "\n",
      "    This program is free software: you can redistribute it and/or modify\n",
      "    it under the terms of the GNU General Public License as published by\n",
      "    the Free Software Foundation, either version 3 of the License, or\n",
      "    (at your option) any later version.\n",
      "\n",
      "    This program is distributed in the hope that it will be useful,\n",
      "    but WITHOUT ANY WARRANTY; without even the implied warranty of\n",
      "    MERCHANTABILITY or FITNESS FOR A PARTICULAR PURPOSE.  See the\n",
      "    GNU General Public License for more details.\n",
      "\n",
      "    You should have received a copy of the GNU General Public License\n",
      "    along with this program.  If not, see <http://www.gnu.org/licenses/>."
     ]
    },
    {
     "cell_type": "markdown",
     "metadata": {},
     "source": [
      "# Getting started\n",
      "\n",
      "To run this notebook, you need to have a reasonably new computer (so that it supports OpenCL), ipython notebook, numpy, and some other dependencies. Instaling these and getting started is detailed below.\n",
      "\n",
      "\n",
      "##Windows\n",
      "The first thing we need, is python. I usually use Enthought Python, as it has a set of pre-compiled packages readily available. Other alternatives include PythonXY.\n",
      "\n",
      "I strongly recommend using 32-bit python and dependencies on Windows, as many packages are not readily available in 64-bit\n",
      "\n",
      "After having installed a basic python distriution (including numpy etc.), the next thing we need is OpenCL for Python. Download from http://www.lfd.uci.edu/~gohlke/pythonlibs/ and install using\n",
      "```\n",
      "pip install <filename>\n",
      "```\n",
      "on the command line. Make sure that you install the correct version (again, that means 32-bit on windows)\n",
      "\n",
      "We also need the OpenCL driver to be installed. Download and install from https://software.intel.com/en-us/articles/opencl-drivers, or from NVIDIA or AMD if you want to run it on your GPU.\n",
      "\n",
      "##Ubuntu 14.04\n",
      "On Ubuntu 14.04, most of our prerequisites can be installed using apt-get install:\n",
      "```\n",
      "sudo apt-get install\n",
      "ipython\n",
      "ipython-notebook\n",
      "python-numpy\n",
      "python-pyopencl\n",
      "```\n",
      "In addition, you may need an OpenCL driver (depending on your hardware: python-pyopencl installs the NVIDIA driver by default). For running on an Intel CPU, download from https://software.intel.com/en-us/articles/opencl-drivers and install. \n",
      "\n",
      "##Ubuntu 14.04 in a Virtualbox\n",
      "Follow the instructions from Ubuntu 14.04. \n",
      "In addition, you need to magically enable SSE 4.1 and 4.2 in your virtualbox image by issuing\n",
      "```\n",
      "VBoxManage setextradata <vbox-image-filename> VBoxInternal/CPUM/SSE4.1 1\n",
      "VBoxManage setextradata <vbox-image-filename> VBoxInternal/CPUM/SSE4.2 1\n",
      "```\n",
      "whilst your virtual machine is powered down."
     ]
    },
    {
     "cell_type": "code",
     "collapsed": false,
     "input": [
      "#Lets have matplotlib \"inline\"\n",
      "%pylab inline\n",
      "\n",
      "#Lets have opencl ipython integration enabled\n",
      "%load_ext pyopencl.ipython_ext\n",
      "\n",
      "#Import packages we need\n",
      "import numpy as np\n",
      "import pyopencl as cl\n",
      "\n",
      "#Make sure we get compiler output from OpenCL\n",
      "import os\n",
      "os.environ[\"PYOPENCL_COMPILER_OUTPUT\"] = \"1\""
     ],
     "language": "python",
     "metadata": {},
     "outputs": [
      {
       "output_type": "stream",
       "stream": "stdout",
       "text": [
        "Populating the interactive namespace from numpy and matplotlib\n"
       ]
      }
     ],
     "prompt_number": 1
    },
    {
     "cell_type": "code",
     "collapsed": false,
     "input": [
      "#Create OpenCL context\n",
      "cl_ctx = cl.create_some_context()\n",
      "\n",
      "#Create an OpenCL command queue\n",
      "cl_queue = cl.CommandQueue(cl_ctx)"
     ],
     "language": "python",
     "metadata": {},
     "outputs": [],
     "prompt_number": 2
    },
    {
     "cell_type": "code",
     "collapsed": false,
     "input": [
      "%%cl_kernel \n",
      "__kernel void add_kernel(__global const float *a, __global const float *b, __global float *c) {\n",
      "  int gid = get_global_id(0);\n",
      "  c[gid] = a[gid] + b[gid];\n",
      "}"
     ],
     "language": "python",
     "metadata": {},
     "outputs": [
      {
       "output_type": "stream",
       "stream": "stderr",
       "text": [
        "C:\\Users\\anbro\\AppData\\Local\\Enthought\\Canopy32\\User\\lib\\site-packages\\pyopencl\\__init__.py:59: CompilerWarning: Built kernel retrieved from cache. Original from-source build had warnings:\n",
        "Build on <pyopencl.Device 'Intel(R) Core(TM) i7-5600U CPU @ 2.60GHz' on 'Intel(R) OpenCL' at 0x642ce0> succeeded, but said:\n",
        "\n",
        "Compilation started\n",
        "Compilation done\n",
        "Linking started\n",
        "Linking done\n",
        "Device build started\n",
        "Device build done\n",
        "Kernel <add_kernel> was successfully vectorized\n",
        "Done.\n",
        "  warn(text, CompilerWarning)\n",
        "C:\\Users\\anbro\\AppData\\Local\\Enthought\\Canopy32\\User\\lib\\site-packages\\pyopencl\\__init__.py:59: CompilerWarning: From-binary build succeeded, but resulted in non-empty logs:\n",
        "Build on <pyopencl.Device 'Intel(R) Core(TM) i7-5600U CPU @ 2.60GHz' on 'Intel(R) OpenCL' at 0x642ce0> succeeded, but said:\n",
        "\n",
        "Linking started\n",
        "Linking done\n",
        "Device build started\n",
        "Device build done\n",
        "Kernel <add_kernel> was successfully vectorized\n",
        "Done.\n",
        "  warn(text, CompilerWarning)\n"
       ]
      }
     ],
     "prompt_number": 3
    },
    {
     "cell_type": "code",
     "collapsed": false,
     "input": [
      "def opencl_add(a, b):\n",
      "    #Make sure that the data is single precision floating point\n",
      "    assert(np.issubdtype(a.dtype, np.float32))\n",
      "    assert(np.issubdtype(b.dtype, np.float32))\n",
      "\n",
      "    #Check that they have the same length\n",
      "    assert(a.shape == b.shape)\n",
      "\n",
      "    #Upload data to the device\n",
      "    mf = cl.mem_flags\n",
      "    a_g = cl.Buffer(cl_ctx, mf.READ_ONLY | mf.COPY_HOST_PTR, hostbuf=a)\n",
      "    b_g = cl.Buffer(cl_ctx, mf.READ_ONLY | mf.COPY_HOST_PTR, hostbuf=b)\n",
      "\n",
      "    #Allocate output data\n",
      "    c_g = cl.Buffer(cl_ctx, mf.WRITE_ONLY, a.nbytes)\n",
      "\n",
      "    #Execute program on device\n",
      "    add_kernel(cl_queue, a.shape, None, a_g, b_g, c_g)\n",
      "\n",
      "    #Allocate data on the host for result\n",
      "    c = np.empty_like(a)\n",
      "\n",
      "    #Copy data from device to host\n",
      "    cl.enqueue_copy(cl_queue, c, c_g)\n",
      "\n",
      "    #Return result\n",
      "    return c"
     ],
     "language": "python",
     "metadata": {},
     "outputs": [],
     "prompt_number": 4
    },
    {
     "cell_type": "code",
     "collapsed": false,
     "input": [
      "#Create test input data\n",
      "a = np.random.rand(50000).astype(np.float32)\n",
      "b = np.random.rand(50000).astype(np.float32)\n",
      "\n",
      "#Add using OpenCL\n",
      "c = opencl_add(a, b)\n",
      "\n",
      "#Compute reference using Numpy\n",
      "c_ref = a + b\n",
      "\n",
      "#Print result\n",
      "print \"C   = \", c\n",
      "print \"Ref = \", c_ref\n",
      "print \"Sad = \", np.sum(np.abs(c - c_ref))"
     ],
     "language": "python",
     "metadata": {},
     "outputs": [
      {
       "output_type": "stream",
       "stream": "stdout",
       "text": [
        "C   =  [ 1.54082012  1.83682263  1.57387137 ...,  1.27263558  1.83952653\n",
        "  1.56949449]\n",
        "Ref =  [ 1.54082012  1.83682263  1.57387137 ...,  1.27263558  1.83952653\n",
        "  1.56949449]\n",
        "Sad =  0.0\n"
       ]
      }
     ],
     "prompt_number": 5
    },
    {
     "cell_type": "code",
     "collapsed": false,
     "input": [],
     "language": "python",
     "metadata": {},
     "outputs": [],
     "prompt_number": 4
    }
   ],
   "metadata": {}
  }
 ]
}