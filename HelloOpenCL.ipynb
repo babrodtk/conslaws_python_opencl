{
 "cells": [
  {
   "cell_type": "markdown",
   "metadata": {},
   "source": [
    "# License\n",
    "    IPython notebook for running a trivial OpenCL program\n",
    "    Copyright (C) 2015 Andre.Brodtkorb@ifi.uio.no\n",
    "\n",
    "    This program is free software: you can redistribute it and/or modify\n",
    "    it under the terms of the GNU General Public License as published by\n",
    "    the Free Software Foundation, either version 3 of the License, or\n",
    "    (at your option) any later version.\n",
    "\n",
    "    This program is distributed in the hope that it will be useful,\n",
    "    but WITHOUT ANY WARRANTY; without even the implied warranty of\n",
    "    MERCHANTABILITY or FITNESS FOR A PARTICULAR PURPOSE.  See the\n",
    "    GNU General Public License for more details.\n",
    "\n",
    "    You should have received a copy of the GNU General Public License\n",
    "    along with this program.  If not, see <http://www.gnu.org/licenses/>."
   ]
  },
  {
   "cell_type": "markdown",
   "metadata": {},
   "source": [
    "# Getting started\n",
    "\n",
    "To run this notebook, you need to have a reasonably new computer (so that it supports OpenCL), ipython notebook, numpy, and some other dependencies. Instaling these and getting started is detailed below.\n",
    "\n",
    "\n",
    "##Windows\n",
    "The first thing we need, is python. I usually use Enthought Python, as it has a set of pre-compiled packages readily available. Other alternatives include PythonXY.\n",
    "\n",
    "I strongly recommend using 32-bit python and dependencies on Windows, as many packages are not readily available in 64-bit\n",
    "\n",
    "After having installed a basic python distriution (including numpy etc.), the next thing we need is OpenCL for Python. Download from http://www.lfd.uci.edu/~gohlke/pythonlibs/ and install using\n",
    "```\n",
    "pip install <filename>\n",
    "```\n",
    "on the command line. Make sure that you install the correct version (again, that means 32-bit on windows)\n",
    "\n",
    "We also need the OpenCL driver to be installed. Download and install from https://software.intel.com/en-us/articles/opencl-drivers, or from NVIDIA or AMD if you want to run it on your GPU.\n",
    "\n",
    "##Ubuntu 14.04\n",
    "On Ubuntu 14.04, most of our prerequisites can be installed using apt-get install:\n",
    "```\n",
    "sudo apt-get install\n",
    "ipython\n",
    "ipython-notebook\n",
    "python-numpy\n",
    "python-pyopencl\n",
    "```\n",
    "In addition, you may need an OpenCL driver (depending on your hardware: python-pyopencl installs the NVIDIA driver by default). For running on an Intel CPU, download from https://software.intel.com/en-us/articles/opencl-drivers and install. \n",
    "\n",
    "##Ubuntu 14.04 in a Virtualbox\n",
    "Follow the instructions from Ubuntu 14.04. \n",
    "In addition, you need to magically enable SSE 4.1 and 4.2 in your virtualbox image by issuing\n",
    "```\n",
    "VBoxManage setextradata <vbox-image-filename> VBoxInternal/CPUM/SSE4.1 1\n",
    "VBoxManage setextradata <vbox-image-filename> VBoxInternal/CPUM/SSE4.2 1\n",
    "```\n",
    "whilst your virtual machine is powered down."
   ]
  },
  {
   "cell_type": "code",
   "execution_count": 1,
   "metadata": {
    "collapsed": false
   },
   "outputs": [],
   "source": [
    "#Lets have matplotlib \"inline\"\n",
    "%matplotlib inline\n",
    "%config InlineBackend.figure_format = 'retina'\n",
    "\n",
    "#Lets have opencl ipython integration enabled\n",
    "%load_ext pyopencl.ipython_ext\n",
    "\n",
    "#Import packages we need\n",
    "import numpy as np\n",
    "import pyopencl as cl\n",
    "import os\n",
    "from matplotlib import animation, rc\n",
    "from matplotlib import pyplot as plt\n",
    "\n",
    "#Set large figure sizes\n",
    "rc('figure', figsize=(16.0, 12.0))\n",
    "rc('animation', html='html5')"
   ]
  },
  {
   "cell_type": "code",
   "execution_count": 2,
   "metadata": {
    "collapsed": true
   },
   "outputs": [],
   "source": [
    "#Setup easier to use compilation of OpenCL\n",
    "os.environ[\"PYOPENCL_COMPILER_OUTPUT\"] = \"1\"\n",
    "os.environ[\"PYOPENCL_CTX\"] = \"0\"\n",
    "os.environ[\"CUDA_CACHE_DISABLE\"] = \"1\""
   ]
  },
  {
   "cell_type": "code",
   "execution_count": 3,
   "metadata": {
    "collapsed": false
   },
   "outputs": [],
   "source": [
    "#Create OpenCL context\n",
    "cl_ctx = cl.create_some_context()\n",
    "\n",
    "#Create an OpenCL command queue\n",
    "cl_queue = cl.CommandQueue(cl_ctx)"
   ]
  },
  {
   "cell_type": "code",
   "execution_count": 4,
   "metadata": {
    "collapsed": false
   },
   "outputs": [],
   "source": [
    "%%cl_kernel \n",
    "__kernel void add_kernel(__global const float *a, __global const float *b, __global float *c) {\n",
    "  int gid = get_global_id(0);\n",
    "  c[gid] = a[gid] + b[gid];\n",
    "}"
   ]
  },
  {
   "cell_type": "code",
   "execution_count": 5,
   "metadata": {
    "collapsed": false
   },
   "outputs": [],
   "source": [
    "def opencl_add(a, b):\n",
    "    #Make sure that the data is single precision floating point\n",
    "    assert(np.issubdtype(a.dtype, np.float32))\n",
    "    assert(np.issubdtype(b.dtype, np.float32))\n",
    "\n",
    "    #Check that they have the same length\n",
    "    assert(a.shape == b.shape)\n",
    "\n",
    "    #Upload data to the device\n",
    "    mf = cl.mem_flags\n",
    "    a_g = cl.Buffer(cl_ctx, mf.READ_ONLY | mf.COPY_HOST_PTR, hostbuf=a)\n",
    "    b_g = cl.Buffer(cl_ctx, mf.READ_ONLY | mf.COPY_HOST_PTR, hostbuf=b)\n",
    "\n",
    "    #Allocate output data\n",
    "    c_g = cl.Buffer(cl_ctx, mf.WRITE_ONLY, a.nbytes)\n",
    "\n",
    "    #Execute program on device\n",
    "    add_kernel(cl_queue, a.shape, None, a_g, b_g, c_g)\n",
    "\n",
    "    #Allocate data on the host for result\n",
    "    c = np.empty_like(a)\n",
    "\n",
    "    #Copy data from device to host\n",
    "    cl.enqueue_copy(cl_queue, c, c_g)\n",
    "\n",
    "    #Return result\n",
    "    return c"
   ]
  },
  {
   "cell_type": "code",
   "execution_count": 6,
   "metadata": {
    "collapsed": false
   },
   "outputs": [
    {
     "name": "stdout",
     "output_type": "stream",
     "text": [
      "C   =  [ 0.45644426  1.09116375  1.12599587 ...,  1.05299234  1.25434113\n",
      "  1.08579791]\n",
      "Ref =  [ 0.45644426  1.09116375  1.12599587 ...,  1.05299234  1.25434113\n",
      "  1.08579791]\n",
      "Sad =  0.0\n"
     ]
    }
   ],
   "source": [
    "#Create test input data\n",
    "a = np.random.rand(50000).astype(np.float32)\n",
    "b = np.random.rand(50000).astype(np.float32)\n",
    "\n",
    "#Add using OpenCL\n",
    "c = opencl_add(a, b)\n",
    "\n",
    "#Compute reference using Numpy\n",
    "c_ref = a + b\n",
    "\n",
    "#Print result\n",
    "print(\"C   = \", c)\n",
    "print(\"Ref = \", c_ref)\n",
    "print(\"Sad = \", np.sum(np.abs(c - c_ref)))"
   ]
  },
  {
   "cell_type": "code",
   "execution_count": null,
   "metadata": {
    "collapsed": false
   },
   "outputs": [],
   "source": []
  }
 ],
 "metadata": {
  "kernelspec": {
   "display_name": "Python 3",
   "language": "python",
   "name": "python3"
  },
  "language_info": {
   "codemirror_mode": {
    "name": "ipython",
    "version": 3
   },
   "file_extension": ".py",
   "mimetype": "text/x-python",
   "name": "python",
   "nbconvert_exporter": "python",
   "pygments_lexer": "ipython3",
   "version": "3.5.1+"
  }
 },
 "nbformat": 4,
 "nbformat_minor": 0
}
