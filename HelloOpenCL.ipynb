{
 "metadata": {
  "name": "",
  "signature": "sha256:7bcc445432fe1825ac2656881343126eb61abcb588a08b4366d51ff8477ac217"
 },
 "nbformat": 3,
 "nbformat_minor": 0,
 "worksheets": [
  {
   "cells": [
    {
     "cell_type": "markdown",
     "metadata": {},
     "source": [
      "# Getting started\n",
      "##Windows\n",
      "The first thing we need, is OpenCL. Download from http://www.lfd.uci.edu/~gohlke/pythonlibs/ and install using\n",
      "```\n",
      "pip install <filename>\n",
      "```\n",
      "Make sure that you install the correct version (that means 32-bit on windows...)\n",
      "\n",
      "We also need the OpenCL driver to be installed. Download and install from https://software.intel.com/en-us/articles/opencl-drivers\n",
      "\n",
      "##Ubuntu\n",
      "\n",
      "##Virtualbox"
     ]
    },
    {
     "cell_type": "code",
     "collapsed": false,
     "input": [
      "#Make sure we get compiler output from OpenCL\n",
      "import os\n",
      "os.environ[\"PYOPENCL_COMPILER_OUTPUT\"] = \"1\""
     ],
     "language": "python",
     "metadata": {},
     "outputs": [],
     "prompt_number": 1
    },
    {
     "cell_type": "code",
     "collapsed": false,
     "input": [
      "#Import packages we need\n",
      "import numpy as np\n",
      "import pyopencl as cl"
     ],
     "language": "python",
     "metadata": {},
     "outputs": [],
     "prompt_number": 2
    },
    {
     "cell_type": "code",
     "collapsed": false,
     "input": [
      "class OpenCLAdder(object):\n",
      "    def __init__(self):\n",
      "        self.ctx = cl.create_some_context()\n",
      "        self.queue = cl.CommandQueue(self.ctx)\n",
      "                \n",
      "    def add(self, a, b):\n",
      "        #Make sure that the data is single precision floating point\n",
      "        assert(np.issubdtype(a.dtype, np.float32))\n",
      "        assert(np.issubdtype(b.dtype, np.float32))\n",
      "        \n",
      "        #Check that they have the same length\n",
      "        assert(a.shape == b.shape)\n",
      "        \n",
      "        #Upload data to the device\n",
      "        mf = cl.mem_flags\n",
      "        a_g = cl.Buffer(self.ctx, mf.READ_ONLY | mf.COPY_HOST_PTR, hostbuf=a)\n",
      "        b_g = cl.Buffer(self.ctx, mf.READ_ONLY | mf.COPY_HOST_PTR, hostbuf=b)\n",
      "\n",
      "        #Allocate output data\n",
      "        c_g = cl.Buffer(self.ctx, mf.WRITE_ONLY, a.nbytes)\n",
      "        \n",
      "        #Compile OpenCL program\n",
      "        src = \"\"\"\n",
      "        __kernel void add(__global const float *a, __global const float *b, __global float *c) {\n",
      "          int gid = get_global_id(0);\n",
      "          c[gid] = a[gid] + b[gid];\n",
      "        }\n",
      "        \"\"\"\n",
      "        prg = cl.Program(self.ctx, src).build()\n",
      "\n",
      "        #Execute program on device\n",
      "        prg.add(self.queue, a.shape, None, a_g, b_g, c_g)\n",
      "        \n",
      "        #Allocate data on the host for result\n",
      "        c = np.empty_like(a)\n",
      "        \n",
      "        #Copy data from device to host\n",
      "        cl.enqueue_copy(self.queue, c, c_g)\n",
      "        \n",
      "        #Return result\n",
      "        return c"
     ],
     "language": "python",
     "metadata": {},
     "outputs": [],
     "prompt_number": 3
    },
    {
     "cell_type": "code",
     "collapsed": false,
     "input": [
      "#Create test input data\n",
      "a = np.random.rand(50000).astype(np.float32)\n",
      "b = np.random.rand(50000).astype(np.float32)\n",
      "\n",
      "#Create OpenCL adder object\n",
      "adder = OpenCLAdder()\n",
      "\n",
      "#Add using OpenCL\n",
      "c = adder.add(a, b)\n",
      "\n",
      "#Compute reference using Numpy\n",
      "c_ref = a + b\n",
      "\n",
      "#Print result\n",
      "print \"C   = \", c\n",
      "print \"Ref = \", c_ref\n",
      "print \"Sad = \", np.sum(np.abs(c - c_ref))"
     ],
     "language": "python",
     "metadata": {},
     "outputs": [
      {
       "output_type": "stream",
       "stream": "stdout",
       "text": [
        "C   =  [ 0.29255307  1.73375642  0.97966456 ...,  0.61659533  1.28640771\n",
        "  0.69946003]\n",
        "Ref =  [ 0.29255307  1.73375642  0.97966456 ...,  0.61659533  1.28640771\n",
        "  0.69946003]\n",
        "Sad =  0.0\n"
       ]
      },
      {
       "output_type": "stream",
       "stream": "stderr",
       "text": [
        "C:\\Users\\anbro\\AppData\\Local\\Enthought\\Canopy32\\User\\lib\\site-packages\\pyopencl\\__init__.py:59: CompilerWarning: Built kernel retrieved from cache. Original from-source build had warnings:\n",
        "Build on <pyopencl.Device 'Intel(R) Core(TM) i7-5600U CPU @ 2.60GHz' on 'Intel(R) OpenCL' at 0x5934b8> succeeded, but said:\n",
        "\n",
        "Compilation started\n",
        "Compilation done\n",
        "Linking started\n",
        "Linking done\n",
        "Device build started\n",
        "Device build done\n",
        "Kernel <add> was successfully vectorized\n",
        "Done.\n",
        "  warn(text, CompilerWarning)\n",
        "C:\\Users\\anbro\\AppData\\Local\\Enthought\\Canopy32\\User\\lib\\site-packages\\pyopencl\\__init__.py:59: CompilerWarning: From-binary build succeeded, but resulted in non-empty logs:\n",
        "Build on <pyopencl.Device 'Intel(R) Core(TM) i7-5600U CPU @ 2.60GHz' on 'Intel(R) OpenCL' at 0x5934b8> succeeded, but said:\n",
        "\n",
        "Linking started\n",
        "Linking done\n",
        "Device build started\n",
        "Device build done\n",
        "Kernel <add> was successfully vectorized\n",
        "Done.\n",
        "  warn(text, CompilerWarning)\n"
       ]
      }
     ],
     "prompt_number": 4
    },
    {
     "cell_type": "code",
     "collapsed": false,
     "input": [],
     "language": "python",
     "metadata": {},
     "outputs": [],
     "prompt_number": 5
    }
   ],
   "metadata": {}
  }
 ]
}