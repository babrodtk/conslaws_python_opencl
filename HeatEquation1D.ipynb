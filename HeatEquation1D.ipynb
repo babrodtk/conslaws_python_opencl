{
 "metadata": {
  "name": "",
  "signature": "sha256:794affe6005ab2ed8273ea950bebea2a504ff78045ef27fe86c3f9ced0594f49"
 },
 "nbformat": 3,
 "nbformat_minor": 0,
 "worksheets": [
  {
   "cells": [
    {
     "cell_type": "markdown",
     "metadata": {},
     "source": [
      "#License\n",
      "    IPython notebook for simulating the heat equation with OpenCL\n",
      "    Copyright (C) 2015 Andre.Brodtkorb@ifi.uio.no\n",
      "\n",
      "    This program is free software: you can redistribute it and/or modify\n",
      "    it under the terms of the GNU General Public License as published by\n",
      "    the Free Software Foundation, either version 3 of the License, or\n",
      "    (at your option) any later version.\n",
      "\n",
      "    This program is distributed in the hope that it will be useful,\n",
      "    but WITHOUT ANY WARRANTY; without even the implied warranty of\n",
      "    MERCHANTABILITY or FITNESS FOR A PARTICULAR PURPOSE.  See the\n",
      "    GNU General Public License for more details.\n",
      "\n",
      "    You should have received a copy of the GNU General Public License\n",
      "    along with this program.  If not, see <http://www.gnu.org/licenses/>."
     ]
    },
    {
     "cell_type": "code",
     "collapsed": false,
     "input": [
      "#Lets have matplotlib \"inline\"\n",
      "%pylab inline\n",
      "\n",
      "#Lets have opencl ipython integration enabled\n",
      "%load_ext pyopencl.ipython_ext\n",
      "\n",
      "#Import packages we need\n",
      "import numpy as np\n",
      "import pyopencl as cl\n",
      "\n",
      "#Make sure we get compiler output from OpenCL\n",
      "import os\n",
      "os.environ[\"PYOPENCL_COMPILER_OUTPUT\"] = \"1\""
     ],
     "language": "python",
     "metadata": {},
     "outputs": [
      {
       "output_type": "stream",
       "stream": "stdout",
       "text": [
        "Populating the interactive namespace from numpy and matplotlib\n",
        "The pyopencl.ipython_ext extension is already loaded. To reload it, use:\n",
        "  %reload_ext pyopencl.ipython_ext\n"
       ]
      }
     ],
     "prompt_number": 29
    },
    {
     "cell_type": "code",
     "collapsed": false,
     "input": [
      "#Create OpenCL context\n",
      "cl_ctx = cl.create_some_context()\n",
      "\n",
      "#Create an OpenCL command queue\n",
      "cl_queue = cl.CommandQueue(cl_ctx)"
     ],
     "language": "python",
     "metadata": {},
     "outputs": [],
     "prompt_number": 30
    },
    {
     "cell_type": "markdown",
     "metadata": {},
     "source": [
      "#Heat equation in 1D\n",
      "The heat equation can be written\n",
      "$$\n",
      "\\begin{align}\n",
      "\\frac{\\partial u}{\\partial t} &= \\kappa \\nabla^2 u\\\\\n",
      "&= \\kappa \\frac{\\partial^2 u}{\\partial x^2}\n",
      "\\end{align}\n",
      "$$\n",
      "where $u$ is the temperature, and $\\kappa$ is the material specific heat conduction constant. \n",
      "\n",
      "By approximating the temporal derivative with a backward difference, and the spatial derivative with a central difference, we get\n",
      "$$\n",
      "\\frac{1}{\\Delta t} (u_i^{n+1} - u_i^{n}) = \\kappa \\frac{1}{\\Delta x^2}(u_{i-1}^n - 2u_i^n + u_{i+1}^n)\n",
      "$$\n",
      "and gathering $u^n+1$ on the left hand side and $u^n$on the right, we write\n",
      "$$\n",
      "u^{n+1}_i = u_i^n + \\frac{\\kappa\\Delta t}{\\Delta x^2}(u_{i-1}^n - 2u_i^n + u_{i+1}^n)\n",
      "$$\n",
      "This discretization is unstable if the following CFL condition is not met\n",
      "$$\n",
      "\\frac{1}{2} \\gt \\frac{\\kappa\\Delta t}{\\Delta x^2}\n",
      "$$\n",
      "or \n",
      "$$\n",
      "\\Delta t \\lt \\frac{\\Delta x^2}{2\\kappa}\n",
      "$$"
     ]
    },
    {
     "cell_type": "code",
     "collapsed": false,
     "input": [
      "%%cl_kernel \n",
      "__kernel void heat_eq_1D(__global float *u1, __global const float *u0, float kappa, float dt, float dx) {\n",
      "    int i = get_global_id(0); //Skip ghost cells\n",
      "    int nx = get_global_size(0); //Get total number of cells\n",
      "\n",
      "    //Internal cells\n",
      "    if (i > 0 && i < nx-1) {\n",
      "        u1[i] = u0[i] + kappa*dt/(dx*dx) * (u0[i-1] - 2*u0[i] + u0[i+1]);\n",
      "    }\n",
      "    //Boundary conditions (ghost cells)\n",
      "    else { \n",
      "        u1[i] = u0[i];\n",
      "    }\n",
      "}"
     ],
     "language": "python",
     "metadata": {},
     "outputs": [],
     "prompt_number": 31
    },
    {
     "cell_type": "code",
     "collapsed": false,
     "input": [
      "\"\"\"\n",
      "Class that holds data for the heat equation in OpenCL\n",
      "\"\"\"\n",
      "class HeatDataCL:\n",
      "    \"\"\"\n",
      "    Uploads initial data to the CL device\n",
      "    \"\"\"\n",
      "    def __init__(self, u0):\n",
      "        #Make sure that the data is single precision floating point\n",
      "        assert(np.issubdtype(u0.dtype, np.float32))\n",
      "        \n",
      "        #Find number of cells\n",
      "        self.nx = len(u0)\n",
      "        \n",
      "        mf = cl.mem_flags \n",
      "        \n",
      "        #Upload data to the device\n",
      "        self.u0 = cl.Buffer(cl_ctx, mf.READ_WRITE | mf.COPY_HOST_PTR, hostbuf=u0)\n",
      "        \n",
      "        #Allocate output buffers\n",
      "        self.u1 = cl.Buffer(cl_ctx, mf.READ_WRITE, u0.nbytes)\n",
      "        \n",
      "    \"\"\"\n",
      "    Enables downloading data from CL device to Python\n",
      "    \"\"\"\n",
      "    def download(self):\n",
      "        #Allocate data on the host for result\n",
      "        u0 = np.empty(self.nx, dtype=np.float32)\n",
      "        \n",
      "        #Copy data from device to host\n",
      "        cl.enqueue_copy(cl_queue, u0, self.u0)\n",
      "        \n",
      "        #Return\n",
      "        return u0;"
     ],
     "language": "python",
     "metadata": {},
     "outputs": [],
     "prompt_number": 33
    },
    {
     "cell_type": "code",
     "collapsed": false,
     "input": [
      "\"\"\"\n",
      "Computes the heat equation using an explicit finite difference scheme with OpenCL\n",
      "\"\"\"\n",
      "def opencl_heat_eq(cl_data, kappa, dx, nt):\n",
      "    #Calculate dt from the CFL condition\n",
      "    dt = 0.8 * dx*dx / (2.0*kappa)\n",
      "\n",
      "    #Loop through all the timesteps\n",
      "    for i in range(nt):\n",
      "        #Execute program on device\n",
      "        heat_eq_1D(cl_queue, (cl_data.nx,1), None, cl_data.u1, cl_data.u0, numpy.float32(kappa), numpy.float32(dt), numpy.float32(dx))\n",
      "        \n",
      "        #Swap variables\n",
      "        cl_data.u0, cl_data.u1 = cl_data.u1, cl_data.u0"
     ],
     "language": "python",
     "metadata": {},
     "outputs": [],
     "prompt_number": 34
    },
    {
     "cell_type": "code",
     "collapsed": false,
     "input": [
      "#Create test input data\n",
      "u0 = np.random.rand(50).astype(np.float32)\n",
      "cl_data = HeatDataCL(u0)\n",
      "kappa = 1.0\n",
      "dx = 1.0\n",
      "\n",
      "#Plot initial conditions\n",
      "figure()\n",
      "plot(u0, label=\"u0\")\n",
      "\n",
      "for i in range(1, 5):\n",
      "    timesteps_per_plot=10\n",
      "    #Simulate 10 timesteps\n",
      "    opencl_heat_eq(cl_data, kappa, dx, timesteps_per_plot)\n",
      "\n",
      "    #Download data\n",
      "    u1 = cl_data.download()\n",
      "\n",
      "    #Plot\n",
      "    plot(u1, label=\"u\"+str(timesteps_per_plot*i))\n",
      "    \n",
      "legend()"
     ],
     "language": "python",
     "metadata": {},
     "outputs": [
      {
       "metadata": {},
       "output_type": "pyout",
       "prompt_number": 35,
       "text": [
        "<matplotlib.legend.Legend at 0x62d3ed0>"
       ]
      },
      {
       "metadata": {},
       "output_type": "display_data",
       "png": "[encoded data removed]",
       "text": [
        "<matplotlib.figure.Figure at 0xa64bb30>"
       ]
      }
     ],
     "prompt_number": 35
    },
    {
     "cell_type": "code",
     "collapsed": false,
     "input": [],
     "language": "python",
     "metadata": {},
     "outputs": [],
     "prompt_number": 4
    }
   ],
   "metadata": {}
  }
 ]
}