{
 "metadata": {
  "name": "",
  "signature": "sha256:ff87fa959c8ee112d5ea32823d085fc772d2698d4d50f8702d5fd2b8a78284a3"
 },
 "nbformat": 3,
 "nbformat_minor": 0,
 "worksheets": [
  {
   "cells": [
    {
     "cell_type": "code",
     "collapsed": false,
     "input": [
      "#Lets have matplotlib \"inline\"\n",
      "%pylab inline\n",
      "\n",
      "#Lets have opencl ipython integration enabled\n",
      "%load_ext pyopencl.ipython_ext\n",
      "\n",
      "#Import packages we need\n",
      "import numpy as np\n",
      "import pyopencl as cl\n",
      "\n",
      "#Make sure we get compiler output from OpenCL\n",
      "import os\n",
      "os.environ[\"PYOPENCL_COMPILER_OUTPUT\"] = \"1\""
     ],
     "language": "python",
     "metadata": {},
     "outputs": [
      {
       "output_type": "stream",
       "stream": "stdout",
       "text": [
        "Populating the interactive namespace from numpy and matplotlib\n",
        "The pyopencl.ipython_ext extension is already loaded. To reload it, use:\n",
        "  %reload_ext pyopencl.ipython_ext\n"
       ]
      }
     ],
     "prompt_number": 85
    },
    {
     "cell_type": "code",
     "collapsed": false,
     "input": [
      "#Create OpenCL context\n",
      "cl_ctx = cl.create_some_context()\n",
      "\n",
      "#Create an OpenCL command queue\n",
      "cl_queue = cl.CommandQueue(cl_ctx)"
     ],
     "language": "python",
     "metadata": {},
     "outputs": [],
     "prompt_number": 86
    },
    {
     "cell_type": "markdown",
     "metadata": {},
     "source": [
      "#Heat equation in 1D\n",
      "The heat equation can be written\n",
      "$$\n",
      "\\begin{align}\n",
      "\\frac{\\partial u}{\\partial t} &= \\kappa \\nabla^2 u\\\\\n",
      "&= \\kappa \\frac{\\partial^2 u}{\\partial x^2}\n",
      "\\end{align}\n",
      "$$\n",
      "where $u$ is the temperature, and $\\kappa$ is the material specific heat conduction constant. \n",
      "\n",
      "By approximating the temporal derivative with a backward difference, and the spatial derivative with a central difference, we get\n",
      "$$\n",
      "\\frac{1}{\\Delta t} (u_i^{n+1} - u_i^{n}) = \\kappa \\frac{1}{\\Delta x^2}(u_{i-1}^n - 2u_i^n + u_{i+1}^n)\n",
      "$$\n",
      "and gathering $u^n+1$ on the left hand side and $u^n$on the right, we write\n",
      "$$\n",
      "u^{n+1}_i = u_i^n + \\frac{\\kappa\\Delta t}{\\Delta x^2}(u_{i-1}^n - 2u_i^n + u_{i+1}^n)\n",
      "$$\n",
      "This discretization is unstable if the following CFL condition is not met\n",
      "$$\n",
      "\\frac{1}{2} \\gt \\frac{\\kappa\\Delta t}{\\Delta x^2}\n",
      "$$\n",
      "or \n",
      "$$\n",
      "\\Delta t \\lt \\frac{\\Delta x^2}{2\\kappa}\n",
      "$$"
     ]
    },
    {
     "cell_type": "code",
     "collapsed": false,
     "input": [
      "%%cl_kernel \n",
      "__kernel void heat_eq_1D(__global float *u1, __global const float *u0, float kappa, float dt, float dx) {\n",
      "    int i = get_global_id(0); //Skip ghost cells\n",
      "    int nx = get_global_size(0); //Get total number of cells\n",
      "\n",
      "    //Internal cells\n",
      "    if (i > 0 && i < nx-1) {\n",
      "        u1[i] = u0[i] + kappa*dt/(dx*dx) * (u0[i-1] - 2*u0[i] + u0[i+1]);\n",
      "    }\n",
      "    //Boundary conditions (ghost cells)\n",
      "    else { \n",
      "        u1[i] = u0[i];\n",
      "    }\n",
      "}"
     ],
     "language": "python",
     "metadata": {},
     "outputs": [],
     "prompt_number": 87
    },
    {
     "cell_type": "code",
     "collapsed": false,
     "input": [
      "\"\"\"\n",
      "Computes the heat equation using an explicit finite difference scheme with OpenCL\n",
      "\"\"\"\n",
      "def opencl_heat_eq(u0, kappa, dx, nt):\n",
      "    #Make sure that the data is single precision floating point\n",
      "    assert(np.issubdtype(u0.dtype, np.float32))\n",
      "    \n",
      "    #Note that we skip ghost cells (-2)\n",
      "    nx = len(u0)\n",
      "    \n",
      "    #Upload data to the device\n",
      "    mf = cl.mem_flags\n",
      "    u0_g = cl.Buffer(cl_ctx, mf.READ_WRITE | mf.COPY_HOST_PTR, hostbuf=u0)\n",
      "    u1_g = cl.Buffer(cl_ctx, mf.READ_WRITE, u0.nbytes)\n",
      "    \n",
      "    #Calculate dt from the CFL condition\n",
      "    dt = 0.8 * dx*dx / (2.0*kappa)\n",
      "\n",
      "    #Loop through all the timesteps\n",
      "    for i in range(nt):\n",
      "        #Execute program on device\n",
      "        heat_eq_1D(cl_queue, (nx,1), None, u1_g, u0_g, numpy.float32(kappa), numpy.float32(dt), numpy.float32(dx))\n",
      "        \n",
      "        #Swap variables\n",
      "        u0_g, u1_g = u1_g, u0_g\n",
      "\n",
      "    #Allocate data on the host for result\n",
      "    #Copy data from device to host\n",
      "    u1 = np.empty_like(u0)\n",
      "    cl.enqueue_copy(cl_queue, u1, u1_g)\n",
      "\n",
      "    #Return result\n",
      "    return u1"
     ],
     "language": "python",
     "metadata": {},
     "outputs": [],
     "prompt_number": 88
    },
    {
     "cell_type": "code",
     "collapsed": false,
     "input": [
      "#Create test input data\n",
      "u0 = np.random.rand(50).astype(np.float32)\n",
      "kappa = 1.0\n",
      "dx = 1.0\n",
      "\n",
      "#Simulate\n",
      "u1 = opencl_heat_eq(u0, kappa, dx, 10)\n",
      "\n",
      "#Plot\n",
      "plot(u0)\n",
      "plot(u1)"
     ],
     "language": "python",
     "metadata": {},
     "outputs": [
      {
       "metadata": {},
       "output_type": "pyout",
       "prompt_number": 89,
       "text": [
        "[<matplotlib.lines.Line2D at 0x130a22d0>]"
       ]
      },
      {
       "metadata": {},
       "output_type": "display_data",
       "png": "[encoded data removed]",
       "text": [
        "<matplotlib.figure.Figure at 0xae90ef0>"
       ]
      }
     ],
     "prompt_number": 89
    },
    {
     "cell_type": "code",
     "collapsed": false,
     "input": [],
     "language": "python",
     "metadata": {},
     "outputs": [],
     "prompt_number": 4
    }
   ],
   "metadata": {}
  }
 ]
}